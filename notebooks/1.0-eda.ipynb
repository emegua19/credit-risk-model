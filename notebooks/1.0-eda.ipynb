{
 "cells": [
  {
   "cell_type": "code",
   "execution_count": 1,
   "id": "cbb6a7ef",
   "metadata": {
    "vscode": {
     "languageId": "plaintext"
    }
   },
   "outputs": [],
   "source": [
    "import sys\n",
    "sys.path.append(\"../src\")\n",
    "\n",
    "from data_explorer import DataExplorer"
   ]
  },
  {
   "cell_type": "code",
   "execution_count": 2,
   "id": "c14aa342",
   "metadata": {
    "vscode": {
     "languageId": "plaintext"
    }
   },
   "outputs": [
    {
     "name": "stdout",
     "output_type": "stream",
     "text": [
      "Data loaded successfully with shape: (95662, 16)\n"
     ]
    }
   ],
   "source": [
    "# 1. Load data\n",
    "eda = DataExplorer(\"../data/raw/data.csv\", \"../outputs/plots\")\n",
    "eda.load_data()"
   ]
  },
  {
   "cell_type": "code",
   "execution_count": 3,
   "id": "c8b9833e",
   "metadata": {
    "vscode": {
     "languageId": "plaintext"
    }
   },
   "outputs": [
    {
     "name": "stdout",
     "output_type": "stream",
     "text": [
      "\n",
      "--- DATA OVERVIEW ---\n",
      "Shape: (95662, 16)\n",
      "\n",
      "Data Types:\n",
      " TransactionId            object\n",
      "BatchId                  object\n",
      "AccountId                object\n",
      "SubscriptionId           object\n",
      "CustomerId               object\n",
      "CurrencyCode             object\n",
      "CountryCode               int64\n",
      "ProviderId               object\n",
      "ProductId                object\n",
      "ProductCategory          object\n",
      "ChannelId                object\n",
      "Amount                  float64\n",
      "Value                     int64\n",
      "TransactionStartTime     object\n",
      "PricingStrategy           int64\n",
      "FraudResult               int64\n",
      "dtype: object\n",
      "\n",
      "Missing Values:\n",
      " TransactionId           0\n",
      "BatchId                 0\n",
      "AccountId               0\n",
      "SubscriptionId          0\n",
      "CustomerId              0\n",
      "CurrencyCode            0\n",
      "CountryCode             0\n",
      "ProviderId              0\n",
      "ProductId               0\n",
      "ProductCategory         0\n",
      "ChannelId               0\n",
      "Amount                  0\n",
      "Value                   0\n",
      "TransactionStartTime    0\n",
      "PricingStrategy         0\n",
      "FraudResult             0\n",
      "dtype: int64\n",
      "\n",
      "--- SUMMARY STATISTICS ---\n",
      "       CountryCode        Amount         Value  PricingStrategy   FraudResult\n",
      "count      95662.0  9.566200e+04  9.566200e+04     95662.000000  95662.000000\n",
      "mean         256.0  6.717846e+03  9.900584e+03         2.255974      0.002018\n",
      "std            0.0  1.233068e+05  1.231221e+05         0.732924      0.044872\n",
      "min          256.0 -1.000000e+06  2.000000e+00         0.000000      0.000000\n",
      "25%          256.0 -5.000000e+01  2.750000e+02         2.000000      0.000000\n",
      "50%          256.0  1.000000e+03  1.000000e+03         2.000000      0.000000\n",
      "75%          256.0  2.800000e+03  5.000000e+03         2.000000      0.000000\n",
      "max          256.0  9.880000e+06  9.880000e+06         4.000000      1.000000\n",
      "\n",
      "--- MISSING VALUES ---\n",
      "Empty DataFrame\n",
      "Columns: [Missing Values, Percent (%)]\n",
      "Index: []\n"
     ]
    },
    {
     "data": {
      "text/html": [
       "<div>\n",
       "<style scoped>\n",
       "    .dataframe tbody tr th:only-of-type {\n",
       "        vertical-align: middle;\n",
       "    }\n",
       "\n",
       "    .dataframe tbody tr th {\n",
       "        vertical-align: top;\n",
       "    }\n",
       "\n",
       "    .dataframe thead th {\n",
       "        text-align: right;\n",
       "    }\n",
       "</style>\n",
       "<table border=\"1\" class=\"dataframe\">\n",
       "  <thead>\n",
       "    <tr style=\"text-align: right;\">\n",
       "      <th></th>\n",
       "      <th>Missing Values</th>\n",
       "      <th>Percent (%)</th>\n",
       "    </tr>\n",
       "  </thead>\n",
       "  <tbody>\n",
       "    <tr>\n",
       "      <th>TransactionId</th>\n",
       "      <td>0</td>\n",
       "      <td>0.0</td>\n",
       "    </tr>\n",
       "    <tr>\n",
       "      <th>BatchId</th>\n",
       "      <td>0</td>\n",
       "      <td>0.0</td>\n",
       "    </tr>\n",
       "    <tr>\n",
       "      <th>AccountId</th>\n",
       "      <td>0</td>\n",
       "      <td>0.0</td>\n",
       "    </tr>\n",
       "    <tr>\n",
       "      <th>SubscriptionId</th>\n",
       "      <td>0</td>\n",
       "      <td>0.0</td>\n",
       "    </tr>\n",
       "    <tr>\n",
       "      <th>CustomerId</th>\n",
       "      <td>0</td>\n",
       "      <td>0.0</td>\n",
       "    </tr>\n",
       "    <tr>\n",
       "      <th>CurrencyCode</th>\n",
       "      <td>0</td>\n",
       "      <td>0.0</td>\n",
       "    </tr>\n",
       "    <tr>\n",
       "      <th>CountryCode</th>\n",
       "      <td>0</td>\n",
       "      <td>0.0</td>\n",
       "    </tr>\n",
       "    <tr>\n",
       "      <th>ProviderId</th>\n",
       "      <td>0</td>\n",
       "      <td>0.0</td>\n",
       "    </tr>\n",
       "    <tr>\n",
       "      <th>ProductId</th>\n",
       "      <td>0</td>\n",
       "      <td>0.0</td>\n",
       "    </tr>\n",
       "    <tr>\n",
       "      <th>ProductCategory</th>\n",
       "      <td>0</td>\n",
       "      <td>0.0</td>\n",
       "    </tr>\n",
       "    <tr>\n",
       "      <th>ChannelId</th>\n",
       "      <td>0</td>\n",
       "      <td>0.0</td>\n",
       "    </tr>\n",
       "    <tr>\n",
       "      <th>Amount</th>\n",
       "      <td>0</td>\n",
       "      <td>0.0</td>\n",
       "    </tr>\n",
       "    <tr>\n",
       "      <th>Value</th>\n",
       "      <td>0</td>\n",
       "      <td>0.0</td>\n",
       "    </tr>\n",
       "    <tr>\n",
       "      <th>TransactionStartTime</th>\n",
       "      <td>0</td>\n",
       "      <td>0.0</td>\n",
       "    </tr>\n",
       "    <tr>\n",
       "      <th>PricingStrategy</th>\n",
       "      <td>0</td>\n",
       "      <td>0.0</td>\n",
       "    </tr>\n",
       "    <tr>\n",
       "      <th>FraudResult</th>\n",
       "      <td>0</td>\n",
       "      <td>0.0</td>\n",
       "    </tr>\n",
       "  </tbody>\n",
       "</table>\n",
       "</div>"
      ],
      "text/plain": [
       "                      Missing Values  Percent (%)\n",
       "TransactionId                      0          0.0\n",
       "BatchId                            0          0.0\n",
       "AccountId                          0          0.0\n",
       "SubscriptionId                     0          0.0\n",
       "CustomerId                         0          0.0\n",
       "CurrencyCode                       0          0.0\n",
       "CountryCode                        0          0.0\n",
       "ProviderId                         0          0.0\n",
       "ProductId                          0          0.0\n",
       "ProductCategory                    0          0.0\n",
       "ChannelId                          0          0.0\n",
       "Amount                             0          0.0\n",
       "Value                              0          0.0\n",
       "TransactionStartTime               0          0.0\n",
       "PricingStrategy                    0          0.0\n",
       "FraudResult                        0          0.0"
      ]
     },
     "execution_count": 3,
     "metadata": {},
     "output_type": "execute_result"
    }
   ],
   "source": [
    "# 2. Overview and summary\n",
    "eda.overview()\n",
    "eda.summary_statistics()\n",
    "eda.missing_values()"
   ]
  },
  {
   "cell_type": "code",
   "execution_count": null,
   "id": "1c6fe43c",
   "metadata": {
    "vscode": {
     "languageId": "plaintext"
    }
   },
   "outputs": [],
   "source": [
    "# 3. Visualizations\n",
    "eda.plot_numerical_distributions(['Amount', 'Value'])\n",
    "eda.plot_categorical_counts(['ChannelId', 'ProductCategory'])\n",
    "eda.correlation_matrix()\n",
    "eda.box_plots(['Amount', 'Value'])\n",
    "eda.add_time_columns()\n",
    "eda.plot_transactions_by_hour()"
   ]
  }
 ],
 "metadata": {
  "kernelspec": {
   "display_name": "Python 3 (ipykernel)",
   "language": "python",
   "name": "python3"
  },
  "language_info": {
   "codemirror_mode": {
    "name": "ipython",
    "version": 3
   },
   "file_extension": ".py",
   "mimetype": "text/x-python",
   "name": "python",
   "nbconvert_exporter": "python",
   "pygments_lexer": "ipython3",
   "version": "3.10.11"
  }
 },
 "nbformat": 4,
 "nbformat_minor": 5
}
